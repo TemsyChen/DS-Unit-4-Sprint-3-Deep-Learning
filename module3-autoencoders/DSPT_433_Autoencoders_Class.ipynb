{
  "nbformat": 4,
  "nbformat_minor": 0,
  "metadata": {
    "accelerator": "GPU",
    "colab": {
      "name": "Copy of DSPT_433_Autoencoders_Class.ipynb",
      "provenance": [],
      "collapsed_sections": [],
      "toc_visible": true
    },
    "kernelspec": {
      "display_name": "Python 3",
      "name": "python3"
    },
    "language_info": {
      "name": "python"
    }
  },
  "cells": [
    {
      "cell_type": "markdown",
      "metadata": {
        "id": "Z5osKTr3CnRb"
      },
      "source": [
        "Lambda School Data Science\n",
        "\n",
        "*Unit 4, Sprint 3, Module 3*\n",
        "\n",
        "---"
      ]
    },
    {
      "cell_type": "markdown",
      "metadata": {
        "id": "YtAqcG51CnRe"
      },
      "source": [
        "# Autoencoders\n",
        "\n",
        "> An autoencoder is a type of artificial neural network used to learn efficient data codings in an unsupervised manner.[1][2] The aim of an autoencoder is to learn a representation (encoding) for a set of data, typically for dimensionality reduction, by training the network to ignore signal “noise”. Along with the reduction side, a reconstructing side is learnt, where the autoencoder tries to generate from the reduced encoding a representation as close as possible to its original input, hence its name. "
      ]
    },
    {
      "cell_type": "markdown",
      "metadata": {
        "id": "EEXXYehlCnRg"
      },
      "source": [
        "## Learning Objectives\n",
        "*At the end of the lecture you should be to*:\n",
        "* <a href=\"#p1\">Part 1</a>: Describe the componenets of an autoencoder\n",
        "* <a href=\"#p2\">Part 2</a>: Train an autoencoder\n",
        "* <a href=\"#p3\">Part 3</a>: Apply an autoenocder to a basic information retrieval problem\n",
        "\n",
        "__Problem:__ Is it possible to automatically represent an image as a fixed-sized vector even if it isn’t labeled?\n",
        "\n",
        "__Solution:__ Use an autoencoder\n",
        "\n",
        "Why do we need to represent an image as a fixed-sized vector do you ask? \n",
        "\n",
        "* __Information Retrieval__\n",
        "    - [Reverse Image Search](https://en.wikipedia.org/wiki/Reverse_image_search)\n",
        "    - [Recommendation Systems - Content Based Filtering](https://en.wikipedia.org/wiki/Recommender_system#Content-based_filtering)\n",
        "* __Dimensionality Reduction__\n",
        "    - [Feature Extraction](https://www.kaggle.com/c/vsb-power-line-fault-detection/discussion/78285)\n",
        "    - [Manifold Learning](https://en.wikipedia.org/wiki/Nonlinear_dimensionality_reduction)\n",
        "\n",
        "We've already seen *representation learning* when we talked about word embedding modelings during our NLP week. Today we're going to achieve a similiar goal on images using *autoencoders*. An autoencoder is a neural network that is trained to attempt to copy its input to its output. Usually they are restricted in ways that allow them to copy only approximately. The model often learns useful properties of the data, because it is forced to prioritize which aspecs of the input should be copied. The properties of autoencoders have made them an important part of modern generative modeling approaches. Consider autoencoders a special case of feed-forward networks (the kind we've been studying); backpropagation and gradient descent still work. "
      ]
    },
    {
      "cell_type": "markdown",
      "metadata": {
        "id": "Cu-r6vI4CnRi"
      },
      "source": [
        "# Autoencoder Architecture (Learn)\n",
        "<a id=\"p1\"></a>"
      ]
    },
    {
      "cell_type": "markdown",
      "metadata": {
        "id": "Le9Zkx2jCnRl"
      },
      "source": [
        "## Overview\n",
        "\n",
        "The *encoder* compresses the input data and the *decoder* does the reverse to produce the uncompressed version of the data to create a reconstruction of the input as accurately as possible:\n",
        "\n",
        "<img src='https://miro.medium.com/max/1400/1*44eDEuZBEsmG_TCAKRI3Kw@2x.png' width=800/>\n",
        "\n",
        "The learning process gis described simply as minimizing a loss function: \n",
        "$ L(x, g(f(x))) $\n",
        "\n",
        "- $L$ is a loss function penalizing $g(f(x))$ for being dissimiliar from $x$ (such as mean squared error)\n",
        "- $f$ is the encoder function\n",
        "- $g$ is the decoder function"
      ]
    },
    {
      "cell_type": "markdown",
      "metadata": {
        "id": "-HRp0o2zCnRl"
      },
      "source": [
        "## Follow Along--Architecture 1: Extremely Simple Autoencoder"
      ]
    },
    {
      "cell_type": "code",
      "metadata": {
        "id": "u-0JBK36CnRy"
      },
      "source": [
        "%load_ext tensorboard"
      ],
      "execution_count": null,
      "outputs": []
    },
    {
      "cell_type": "code",
      "metadata": {
        "id": "hClFQf1MDAtF"
      },
      "source": [
        "import tensorflow as tf\n",
        "import numpy as np\n",
        "import os\n",
        "tf.random.set_seed(10)\n",
        "\n",
        "URL_ = \"https://github.com/LambdaSchool/DS-Unit-4-Sprint-2-Neural-Networks/blob/main/quickdraw10.npz?raw=true\"\n",
        "\n",
        "path_to_zip = tf.keras.utils.get_file('./quickdraw10.npz', origin=URL_, extract=False)"
      ],
      "execution_count": null,
      "outputs": []
    },
    {
      "cell_type": "code",
      "metadata": {
        "colab": {
          "base_uri": "https://localhost:8080/"
        },
        "id": "Lwc82kH4CnR5",
        "outputId": "1d4add81-282b-4752-9b0b-771ca2031b5f"
      },
      "source": [
        "data = np.load(path_to_zip)\n",
        "\n",
        "X_train = data['arr_0']\n",
        "y_train = data['arr_1']\n",
        "\n",
        "print(X_train.shape)\n",
        "print(y_train.shape)"
      ],
      "execution_count": null,
      "outputs": [
        {
          "output_type": "stream",
          "text": [
            "(100000, 784)\n",
            "(100000,)\n"
          ],
          "name": "stdout"
        }
      ]
    },
    {
      "cell_type": "code",
      "metadata": {
        "id": "AoAd1eY-CnSA"
      },
      "source": [
        "class_names = ['apple',\n",
        " 'anvil',\n",
        " 'airplane',\n",
        " 'banana',\n",
        " 'The Eiffel Tower',\n",
        " 'The Mona Lisa',\n",
        " 'The Great Wall of China',\n",
        " 'alarm clock',\n",
        " 'ant',\n",
        " 'asparagus']"
      ],
      "execution_count": null,
      "outputs": []
    },
    {
      "cell_type": "code",
      "metadata": {
        "colab": {
          "base_uri": "https://localhost:8080/",
          "height": 289
        },
        "id": "LpuQOvIOCnSF",
        "outputId": "6e053ad8-a054-47cd-c062-5a7eb0e09a6f"
      },
      "source": [
        "import matplotlib.pyplot as plt\n",
        "plt.figure(figsize=(10,5))\n",
        "start = 0\n",
        "\n",
        "for num, name in enumerate(class_names):\n",
        "    plt.subplot(2,5, num+1)\n",
        "    plt.xticks([])\n",
        "    plt.yticks([])\n",
        "    plt.grid(False)\n",
        "    plt.imshow(X_train[start].reshape(28,28), cmap=plt.cm.binary)\n",
        "    plt.xlabel(name)\n",
        "    start += 10000\n",
        "plt.show()"
      ],
      "execution_count": null,
      "outputs": [
        {
          "output_type": "display_data",
          "data": {
            "image/png": "[encoded data removed]",
            "text/plain": [
              "<Figure size 720x360 with 10 Axes>"
            ]
          },
          "metadata": {
            "tags": []
          }
        }
      ]
    },
    {
      "cell_type": "code",
      "metadata": {
        "id": "8DCNnW2uCnSL"
      },
      "source": [
        "from sklearn.utils import shuffle\n",
        "X_train, y_train = shuffle(X_train, y_train)"
      ],
      "execution_count": null,
      "outputs": []
    },
    {
      "cell_type": "code",
      "metadata": {
        "id": "2Yp5d5jnDU2d"
      },
      "source": [
        "from tensorflow.keras.layers import Input, Dense\n",
        "from tensorflow.keras.models import Model\n",
        "from tensorflow.keras.callbacks import EarlyStopping, TensorBoard\n",
        "\n",
        "# this is the size of our encoded representations\n",
        "encoding_dim = 32  # 32 floats -> compression of factor 24.5, assuming the input is 784 floats\n",
        "\n",
        "# this is our input placeholder\n",
        "input_img = Input(shape=(784,))\n",
        "\n",
        "# \"encoded\" is the encoded representation of the input\n",
        "encoded = Dense(encoding_dim, activation='relu')(input_img)\n",
        "\n",
        "# \"decoded\" is the lossy reconstruction of the input\n",
        "decoded = Dense(784, activation='sigmoid')(encoded)\n",
        "\n",
        "# this model maps an input to its reconstruction\n",
        "autoencoder = Model(input_img, decoded)"
      ],
      "execution_count": null,
      "outputs": []
    },
    {
      "cell_type": "code",
      "metadata": {
        "colab": {
          "base_uri": "https://localhost:8080/"
        },
        "id": "3gCnfmXQDYkZ",
        "outputId": "f96dee6e-a6c7-4447-88f2-fa71a8f8d08a"
      },
      "source": [
        "# this model maps an input to its encoded representation\n",
        "encoder = Model(input_img, encoded)\n",
        "encoder.summary()"
      ],
      "execution_count": null,
      "outputs": [
        {
          "output_type": "stream",
          "text": [
            "Model: \"model_1\"\n",
            "_________________________________________________________________\n",
            "Layer (type)                 Output Shape              Param #   \n",
            "=================================================================\n",
            "input_1 (InputLayer)         [(None, 784)]             0         \n",
            "_________________________________________________________________\n",
            "dense (Dense)                (None, 32)                25120     \n",
            "=================================================================\n",
            "Total params: 25,120\n",
            "Trainable params: 25,120\n",
            "Non-trainable params: 0\n",
            "_________________________________________________________________\n"
          ],
          "name": "stdout"
        }
      ]
    },
    {
      "cell_type": "code",
      "metadata": {
        "colab": {
          "base_uri": "https://localhost:8080/"
        },
        "id": "x-JwESQ-DaUp",
        "outputId": "56fc75ba-810b-4093-9757-d954d9b93a65"
      },
      "source": [
        "autoencoder.compile(optimizer='nadam', loss='binary_crossentropy')\n",
        "autoencoder.summary()"
      ],
      "execution_count": null,
      "outputs": [
        {
          "output_type": "stream",
          "text": [
            "Model: \"model\"\n",
            "_________________________________________________________________\n",
            "Layer (type)                 Output Shape              Param #   \n",
            "=================================================================\n",
            "input_1 (InputLayer)         [(None, 784)]             0         \n",
            "_________________________________________________________________\n",
            "dense (Dense)                (None, 32)                25120     \n",
            "_________________________________________________________________\n",
            "dense_1 (Dense)              (None, 784)               25872     \n",
            "=================================================================\n",
            "Total params: 50,992\n",
            "Trainable params: 50,992\n",
            "Non-trainable params: 0\n",
            "_________________________________________________________________\n"
          ],
          "name": "stdout"
        }
      ]
    },
    {
      "cell_type": "code",
      "metadata": {
        "colab": {
          "base_uri": "https://localhost:8080/"
        },
        "id": "M-f8wok1Db2A",
        "outputId": "ca2e42ed-0c61-4153-a556-f4c502e92ea3"
      },
      "source": [
        "X_train = X_train.astype('float32') / 255.\n",
        "print(X_train.shape)"
      ],
      "execution_count": null,
      "outputs": [
        {
          "output_type": "stream",
          "text": [
            "(100000, 784)\n"
          ],
          "name": "stdout"
        }
      ]
    },
    {
      "cell_type": "code",
      "metadata": {
        "colab": {
          "base_uri": "https://localhost:8080/"
        },
        "id": "fahm2CjBDg7k",
        "outputId": "6251bc02-2ed0-4aab-cefe-32f0e6c2633f"
      },
      "source": [
        "import os\n",
        "import datetime\n",
        "from tensorflow.keras.callbacks import TensorBoard\n",
        "\n",
        "stop = EarlyStopping(monitor='val_loss', min_delta=0.001, patience=2)\n",
        "now = datetime.datetime.now().strftime(\"%Y%m%d-%H%M%S\")\n",
        "\n",
        "logdir = os.path.join(\"logs\", f\"SimpleAutoencoder-{now}\")\n",
        "tensorboard = TensorBoard(log_dir=logdir)\n",
        "\n",
        "autoencoder.fit(X_train, X_train,  # X_train twice!\n",
        "                epochs=10000,\n",
        "                batch_size=64,\n",
        "                shuffle=True,\n",
        "                validation_split=.2,\n",
        "                verbose = True,\n",
        "                callbacks=[stop, tensorboard])"
      ],
      "execution_count": null,
      "outputs": [
        {
          "output_type": "stream",
          "text": [
            "Epoch 1/10000\n",
            "1250/1250 [==============================] - 7s 3ms/step - loss: 0.3543 - val_loss: 0.2410\n",
            "Epoch 2/10000\n",
            "1250/1250 [==============================] - 3s 2ms/step - loss: 0.2364 - val_loss: 0.2265\n",
            "Epoch 3/10000\n",
            "1250/1250 [==============================] - 3s 2ms/step - loss: 0.2266 - val_loss: 0.2233\n",
            "Epoch 4/10000\n",
            "1250/1250 [==============================] - 3s 2ms/step - loss: 0.2243 - val_loss: 0.2225\n",
            "Epoch 5/10000\n",
            "1250/1250 [==============================] - 3s 2ms/step - loss: 0.2223 - val_loss: 0.2219\n",
            "Epoch 6/10000\n",
            "1250/1250 [==============================] - 3s 2ms/step - loss: 0.2221 - val_loss: 0.2214\n",
            "Epoch 7/10000\n",
            "1250/1250 [==============================] - 3s 2ms/step - loss: 0.2218 - val_loss: 0.2211\n"
          ],
          "name": "stdout"
        },
        {
          "output_type": "execute_result",
          "data": {
            "text/plain": [
              "<tensorflow.python.keras.callbacks.History at 0x7f034a115e90>"
            ]
          },
          "metadata": {
            "tags": []
          },
          "execution_count": 11
        }
      ]
    },
    {
      "cell_type": "code",
      "metadata": {
        "colab": {
          "base_uri": "https://localhost:8080/",
          "height": 821
        },
        "id": "ZWHFevSPDl60",
        "outputId": "49a9dc0c-c00f-4457-9d9b-9889bbe5f8a1"
      },
      "source": [
        "%tensorboard --logdir ./logs"
      ],
      "execution_count": null,
      "outputs": []
    },
    {
      "cell_type": "code",
      "metadata": {
        "id": "5mSjOSXWDolk"
      },
      "source": [
        "# encode and decode some digits\n",
        "decoded_imgs = autoencoder(X_train)"
      ],
      "execution_count": null,
      "outputs": []
    },
    {
      "cell_type": "code",
      "metadata": {
        "colab": {
          "base_uri": "https://localhost:8080/",
          "height": 248
        },
        "id": "b_jzwe0nDp86",
        "outputId": "2d7facd3-2e2a-4d84-e7c0-267735204e2a"
      },
      "source": [
        "# use Matplotlib \n",
        "import matplotlib.pyplot as plt\n",
        "\n",
        "n = 10  # how many digits we will display\n",
        "plt.figure(figsize=(20, 4))\n",
        "for i in range(n):\n",
        "    # display original\n",
        "    ax = plt.subplot(2, n, i + 1)\n",
        "    plt.imshow(X_train[i].reshape(28, 28))\n",
        "    plt.gray()\n",
        "    ax.get_xaxis().set_visible(False)\n",
        "    ax.get_yaxis().set_visible(False)\n",
        "\n",
        "    # display reconstruction\n",
        "    ax = plt.subplot(2, n, i + 1 + n)\n",
        "    plt.imshow(decoded_imgs[i].numpy().reshape(28, 28))\n",
        "    plt.gray()\n",
        "    ax.get_xaxis().set_visible(False)\n",
        "    ax.get_yaxis().set_visible(False)\n",
        "plt.show()"
      ],
      "execution_count": null,
      "outputs": [
        {
          "output_type": "display_data",
          "data": {
            "image/png": "[encoded data removed]",
            "text/plain": [
              "<Figure size 1440x288 with 20 Axes>"
            ]
          },
          "metadata": {
            "tags": [],
            "needs_background": "light"
          }
        }
      ]
    },
    {
      "cell_type": "markdown",
      "metadata": {
        "id": "e8FRP87jCnSw"
      },
      "source": [
        "## Challenge\n",
        "\n",
        "Expected to talk about the components of autoencoder and their purpose. "
      ]
    },
    {
      "cell_type": "markdown",
      "metadata": {
        "id": "WYEjrxySCnSx"
      },
      "source": [
        "# Train an Autoencoder (Learn)\n",
        "<a id=\"p2\"></a>"
      ]
    },
    {
      "cell_type": "markdown",
      "metadata": {
        "id": "IXGgMJIvCnSx"
      },
      "source": [
        "## Overview\n",
        "\n",
        "As long as our architecture maintains an hourglass shape, we can continue to add layers and create a deeper network. "
      ]
    },
    {
      "cell_type": "markdown",
      "metadata": {
        "id": "PLh1jdp1CnSy"
      },
      "source": [
        "## Follow Along"
      ]
    },
    {
      "cell_type": "markdown",
      "metadata": {
        "id": "l414gL91CnSz"
      },
      "source": [
        "## Architecture 2: Deep Autoencoder"
      ]
    },
    {
      "cell_type": "code",
      "metadata": {
        "colab": {
          "base_uri": "https://localhost:8080/"
        },
        "id": "SRxozSvYCnSz",
        "outputId": "5be8c1d8-fbab-4c1b-d84d-f509dd1e9d9f"
      },
      "source": [
        "input_img = Input(shape=(784,))\n",
        "encoded_1 = Dense(256, activation='relu')(input_img)\n",
        "encoded_2 = Dense(64, activation='relu')(encoded_1)\n",
        "\n",
        "# Latent Representation \n",
        "encoded = Dense(32, activation='relu')(encoded_2)\n",
        "\n",
        "# Decoder\n",
        "decoder_1 = Dense(64, activation='relu')(encoded)\n",
        "decoder_2 = Dense(256, activation='relu')(decoder_1)\n",
        "decoder = Dense(784, activation='sigmoid')(decoder_2)\n",
        "\n",
        "autoencoder = Model(input_img, decoder)\n",
        "autoencoder.summary()"
      ],
      "execution_count": null,
      "outputs": [
        {
          "output_type": "stream",
          "text": [
            "Model: \"model_2\"\n",
            "_________________________________________________________________\n",
            "Layer (type)                 Output Shape              Param #   \n",
            "=================================================================\n",
            "input_2 (InputLayer)         [(None, 784)]             0         \n",
            "_________________________________________________________________\n",
            "dense_2 (Dense)              (None, 256)               200960    \n",
            "_________________________________________________________________\n",
            "dense_3 (Dense)              (None, 64)                16448     \n",
            "_________________________________________________________________\n",
            "dense_4 (Dense)              (None, 32)                2080      \n",
            "_________________________________________________________________\n",
            "dense_5 (Dense)              (None, 64)                2112      \n",
            "_________________________________________________________________\n",
            "dense_6 (Dense)              (None, 256)               16640     \n",
            "_________________________________________________________________\n",
            "dense_7 (Dense)              (None, 784)               201488    \n",
            "=================================================================\n",
            "Total params: 439,728\n",
            "Trainable params: 439,728\n",
            "Non-trainable params: 0\n",
            "_________________________________________________________________\n"
          ],
          "name": "stdout"
        }
      ]
    },
    {
      "cell_type": "code",
      "metadata": {
        "colab": {
          "base_uri": "https://localhost:8080/",
          "height": 754
        },
        "id": "LaPGvLpe-jZ1",
        "outputId": "72f546ca-f2c5-415c-ab21-408a2e19fa13"
      },
      "source": [
        "from tensorflow.keras.utils import plot_model\n",
        "\n",
        "plot_model(autoencoder, show_shapes=True)"
      ],
      "execution_count": null,
      "outputs": [
        {
          "output_type": "execute_result",
          "data": {
            "image/png": "[encoded data removed]",
            "text/plain": [
              "<IPython.core.display.Image object>"
            ]
          },
          "metadata": {
            "tags": []
          },
          "execution_count": 16
        }
      ]
    },
    {
      "cell_type": "code",
      "metadata": {
        "colab": {
          "base_uri": "https://localhost:8080/"
        },
        "id": "z8BVgVl-CnS5",
        "outputId": "3c0e1f13-86c1-4cb1-9d87-93205df8ec6a"
      },
      "source": [
        "# compile & fit model\n",
        "autoencoder.compile(optimizer='nadam', loss='binary_crossentropy')\n",
        "\n",
        "stop = EarlyStopping(monitor='val_loss', min_delta=0.001, patience=2)\n",
        "now = datetime.datetime.now().strftime(\"%Y%m%d-%H%M%S\")\n",
        "\n",
        "logdir = os.path.join(\"logs\", f\"DeepAutoencoder-{now}\")\n",
        "tensorboard = TensorBoard(log_dir=logdir)\n",
        "\n",
        "autoencoder.fit(X_train, X_train,  # X_train twice!\n",
        "                epochs=10000,\n",
        "                batch_size=64,\n",
        "                shuffle=True,\n",
        "                validation_split=.2,\n",
        "                verbose = True,\n",
        "                callbacks=[stop, tensorboard])"
      ],
      "execution_count": null,
      "outputs": [
        {
          "output_type": "stream",
          "text": [
            "Epoch 1/10000\n",
            "1250/1250 [==============================] - 6s 4ms/step - loss: 0.3216 - val_loss: 0.2438\n",
            "Epoch 2/10000\n",
            "1250/1250 [==============================] - 5s 4ms/step - loss: 0.2388 - val_loss: 0.2291\n",
            "Epoch 3/10000\n",
            "1250/1250 [==============================] - 5s 4ms/step - loss: 0.2236 - val_loss: 0.2156\n",
            "Epoch 4/10000\n",
            "1250/1250 [==============================] - 5s 4ms/step - loss: 0.2137 - val_loss: 0.2082\n",
            "Epoch 5/10000\n",
            "1250/1250 [==============================] - 5s 4ms/step - loss: 0.2080 - val_loss: 0.2030\n",
            "Epoch 6/10000\n",
            "1250/1250 [==============================] - 5s 4ms/step - loss: 0.2018 - val_loss: 0.1993\n",
            "Epoch 7/10000\n",
            "1250/1250 [==============================] - 5s 4ms/step - loss: 0.1986 - val_loss: 0.1960\n",
            "Epoch 8/10000\n",
            "1250/1250 [==============================] - 5s 4ms/step - loss: 0.1953 - val_loss: 0.1940\n",
            "Epoch 9/10000\n",
            "1250/1250 [==============================] - 5s 4ms/step - loss: 0.1936 - val_loss: 0.1916\n",
            "Epoch 10/10000\n",
            "1250/1250 [==============================] - 5s 4ms/step - loss: 0.1910 - val_loss: 0.1900\n",
            "Epoch 11/10000\n",
            "1250/1250 [==============================] - 5s 4ms/step - loss: 0.1903 - val_loss: 0.1896\n",
            "Epoch 12/10000\n",
            "1250/1250 [==============================] - 5s 4ms/step - loss: 0.1883 - val_loss: 0.1883\n",
            "Epoch 13/10000\n",
            "1250/1250 [==============================] - 5s 4ms/step - loss: 0.1876 - val_loss: 0.1873\n",
            "Epoch 14/10000\n",
            "1250/1250 [==============================] - 4s 4ms/step - loss: 0.1865 - val_loss: 0.1869\n",
            "Epoch 15/10000\n",
            "1250/1250 [==============================] - 5s 4ms/step - loss: 0.1864 - val_loss: 0.1862\n",
            "Epoch 16/10000\n",
            "1250/1250 [==============================] - 5s 4ms/step - loss: 0.1856 - val_loss: 0.1851\n",
            "Epoch 17/10000\n",
            "1250/1250 [==============================] - 5s 4ms/step - loss: 0.1850 - val_loss: 0.1847\n",
            "Epoch 18/10000\n",
            "1250/1250 [==============================] - 5s 4ms/step - loss: 0.1842 - val_loss: 0.1845\n"
          ],
          "name": "stdout"
        },
        {
          "output_type": "execute_result",
          "data": {
            "text/plain": [
              "<tensorflow.python.keras.callbacks.History at 0x7f03514ac1d0>"
            ]
          },
          "metadata": {
            "tags": []
          },
          "execution_count": 17
        }
      ]
    },
    {
      "cell_type": "code",
      "metadata": {
        "id": "QdpySIRdAANU"
      },
      "source": [
        "decoded_imgs = autoencoder(X_train)"
      ],
      "execution_count": null,
      "outputs": []
    },
    {
      "cell_type": "code",
      "metadata": {
        "colab": {
          "base_uri": "https://localhost:8080/",
          "height": 248
        },
        "id": "HcC6nGqKCnS9",
        "outputId": "6208d428-7282-4136-cecf-74d3963204ee"
      },
      "source": [
        "# use Matplotlib (don't ask)\n",
        "import matplotlib.pyplot as plt\n",
        "\n",
        "n = 10  # how many digits we will display\n",
        "plt.figure(figsize=(20, 4))\n",
        "for i in range(n):\n",
        "    # display original\n",
        "    ax = plt.subplot(2, n, i + 1)\n",
        "    plt.imshow(X_train[i].reshape(28, 28))\n",
        "    plt.gray()\n",
        "    ax.get_xaxis().set_visible(False)\n",
        "    ax.get_yaxis().set_visible(False)\n",
        "\n",
        "    # display reconstruction\n",
        "    ax = plt.subplot(2, n, i + 1 + n)\n",
        "    plt.imshow(decoded_imgs[i].numpy().reshape(28, 28))\n",
        "    plt.gray()\n",
        "    ax.get_xaxis().set_visible(False)\n",
        "    ax.get_yaxis().set_visible(False)\n",
        "plt.show()"
      ],
      "execution_count": null,
      "outputs": [
        {
          "output_type": "display_data",
          "data": {
            "image/png": "[encoded data removed]",
            "text/plain": [
              "<Figure size 1440x288 with 20 Axes>"
            ]
          },
          "metadata": {
            "tags": [],
            "needs_background": "light"
          }
        }
      ]
    },
    {
      "cell_type": "markdown",
      "metadata": {
        "id": "oQKWFNDLCnTB"
      },
      "source": [
        "## Architecture 3: Convolutional autoencoder\n",
        "\n",
        "> Since our inputs are images, it makes sense to use convolutional neural networks (convnets) as encoders and decoders. In practical settings, autoencoders applied to images are always convolutional autoencoders --they simply perform much better.\n",
        "\n",
        "> Let's implement one. The encoder will consist in a stack of Conv2D and MaxPooling2D layers (max pooling being used for spatial down-sampling), while the decoder will consist in a stack of Conv2D and UpSampling2D layers."
      ]
    },
    {
      "cell_type": "code",
      "metadata": {
        "colab": {
          "base_uri": "https://localhost:8080/"
        },
        "id": "iSY-9koWCnTD",
        "outputId": "f664270c-af11-469c-c101-2f2f612bb16b"
      },
      "source": [
        "from tensorflow.keras.layers import Input, Dense, Conv2D, MaxPooling2D, UpSampling2D\n",
        "from tensorflow.keras.models import Model\n",
        "\n",
        "# Create Model \n",
        "input_img = Input(shape=(28, 28, 1))\n",
        "\n",
        "x = Conv2D(16, (3,3), activation='relu', padding='same')(input_img)\n",
        "x = MaxPooling2D((2,2), padding='same')(x)\n",
        "x = Conv2D(8, (3, 3), activation='relu', padding='same')(x)\n",
        "x = MaxPooling2D((2, 2), padding='same')(x)\n",
        "x = Conv2D(2, (3, 3), activation='relu', padding='same')(x)\n",
        "\n",
        "# Latent Representation is (4, 4, 2) i.e. 32-dimensional representation\n",
        "encoded = MaxPooling2D((2, 2), padding='same')(x)\n",
        "\n",
        "x = Conv2D(2, (3,3), activation='relu', padding='same')(encoded)\n",
        "x = UpSampling2D((2,2))(x)\n",
        "x = Conv2D(8, (3, 3), activation='relu', padding='same')(x)\n",
        "x = UpSampling2D((2, 2))(x)\n",
        "x = Conv2D(16, (3, 3), activation='relu')(x)\n",
        "x = UpSampling2D((2, 2))(x)\n",
        "decoded = Conv2D(1, (3, 3), activation='sigmoid', padding='same')(x)\n",
        "\n",
        "autoencoder = Model(input_img, decoded)\n",
        "autoencoder.compile(optimizer='nadam', \n",
        "                    loss='binary_crossentropy')\n",
        "autoencoder.summary()"
      ],
      "execution_count": null,
      "outputs": [
        {
          "output_type": "stream",
          "text": [
            "Model: \"model_3\"\n",
            "_________________________________________________________________\n",
            "Layer (type)                 Output Shape              Param #   \n",
            "=================================================================\n",
            "input_3 (InputLayer)         [(None, 28, 28, 1)]       0         \n",
            "_________________________________________________________________\n",
            "conv2d (Conv2D)              (None, 28, 28, 16)        160       \n",
            "_________________________________________________________________\n",
            "max_pooling2d (MaxPooling2D) (None, 14, 14, 16)        0         \n",
            "_________________________________________________________________\n",
            "conv2d_1 (Conv2D)            (None, 14, 14, 8)         1160      \n",
            "_________________________________________________________________\n",
            "max_pooling2d_1 (MaxPooling2 (None, 7, 7, 8)           0         \n",
            "_________________________________________________________________\n",
            "conv2d_2 (Conv2D)            (None, 7, 7, 2)           146       \n",
            "_________________________________________________________________\n",
            "max_pooling2d_2 (MaxPooling2 (None, 4, 4, 2)           0         \n",
            "_________________________________________________________________\n",
            "conv2d_3 (Conv2D)            (None, 4, 4, 2)           38        \n",
            "_________________________________________________________________\n",
            "up_sampling2d (UpSampling2D) (None, 8, 8, 2)           0         \n",
            "_________________________________________________________________\n",
            "conv2d_4 (Conv2D)            (None, 8, 8, 8)           152       \n",
            "_________________________________________________________________\n",
            "up_sampling2d_1 (UpSampling2 (None, 16, 16, 8)         0         \n",
            "_________________________________________________________________\n",
            "conv2d_5 (Conv2D)            (None, 14, 14, 16)        1168      \n",
            "_________________________________________________________________\n",
            "up_sampling2d_2 (UpSampling2 (None, 28, 28, 16)        0         \n",
            "_________________________________________________________________\n",
            "conv2d_6 (Conv2D)            (None, 28, 28, 1)         145       \n",
            "=================================================================\n",
            "Total params: 2,969\n",
            "Trainable params: 2,969\n",
            "Non-trainable params: 0\n",
            "_________________________________________________________________\n"
          ],
          "name": "stdout"
        }
      ]
    },
    {
      "cell_type": "code",
      "metadata": {
        "colab": {
          "base_uri": "https://localhost:8080/"
        },
        "id": "KPdOXeqWE1Qo",
        "outputId": "07cc460f-c08f-4c1c-e392-827194b3e240"
      },
      "source": [
        "X_train = X_train.reshape(X_train.shape[0], 28, 28, 1)\n",
        "X_train.shape"
      ],
      "execution_count": null,
      "outputs": [
        {
          "output_type": "execute_result",
          "data": {
            "text/plain": [
              "(100000, 28, 28, 1)"
            ]
          },
          "metadata": {
            "tags": []
          },
          "execution_count": 21
        }
      ]
    },
    {
      "cell_type": "code",
      "metadata": {
        "colab": {
          "base_uri": "https://localhost:8080/"
        },
        "id": "Ynz1wNb9CnTM",
        "outputId": "d9f5cedd-8bd3-4a9f-e37e-4238688511d2"
      },
      "source": [
        "stop = EarlyStopping(monitor='val_loss', min_delta=0.001, patience=5)\n",
        "now = datetime.datetime.now().strftime(\"%Y%m%d-%H%M%S\")\n",
        "logdir = os.path.join(\"logs\", f\"ConvAutoencoder-{now}\")\n",
        "tensorboard = TensorBoard(log_dir=logdir)\n",
        "\n",
        "autoencoder.fit(X_train, X_train,  # X_train twice!\n",
        "                epochs=100,\n",
        "                batch_size=64,\n",
        "                shuffle=True,\n",
        "                validation_split=0.2,\n",
        "                verbose = True,\n",
        "                callbacks=[stop, tensorboard])"
      ],
      "execution_count": null,
      "outputs": [
        {
          "output_type": "stream",
          "text": [
            "Epoch 1/100\n",
            "1250/1250 [==============================] - 39s 7ms/step - loss: 0.3583 - val_loss: 0.2769\n",
            "Epoch 2/100\n",
            "1250/1250 [==============================] - 7s 6ms/step - loss: 0.2753 - val_loss: 0.2636\n",
            "Epoch 3/100\n",
            "1250/1250 [==============================] - 7s 6ms/step - loss: 0.2628 - val_loss: 0.2573\n",
            "Epoch 4/100\n",
            "1250/1250 [==============================] - 7s 6ms/step - loss: 0.2554 - val_loss: 0.2532\n",
            "Epoch 5/100\n",
            "1250/1250 [==============================] - 7s 6ms/step - loss: 0.2490 - val_loss: 0.2442\n",
            "Epoch 6/100\n",
            "1250/1250 [==============================] - 7s 6ms/step - loss: 0.2451 - val_loss: 0.2419\n",
            "Epoch 7/100\n",
            "1250/1250 [==============================] - 7s 6ms/step - loss: 0.2417 - val_loss: 0.2387\n",
            "Epoch 8/100\n",
            "1250/1250 [==============================] - 7s 6ms/step - loss: 0.2399 - val_loss: 0.2389\n",
            "Epoch 9/100\n",
            "1250/1250 [==============================] - 7s 6ms/step - loss: 0.2384 - val_loss: 0.2352\n",
            "Epoch 10/100\n",
            "1250/1250 [==============================] - 7s 6ms/step - loss: 0.2356 - val_loss: 0.2338\n",
            "Epoch 11/100\n",
            "1250/1250 [==============================] - 7s 6ms/step - loss: 0.2339 - val_loss: 0.2318\n",
            "Epoch 12/100\n",
            "1250/1250 [==============================] - 7s 6ms/step - loss: 0.2328 - val_loss: 0.2311\n",
            "Epoch 13/100\n",
            "1250/1250 [==============================] - 7s 6ms/step - loss: 0.2311 - val_loss: 0.2294\n",
            "Epoch 14/100\n",
            "1250/1250 [==============================] - 7s 6ms/step - loss: 0.2301 - val_loss: 0.2283\n",
            "Epoch 15/100\n",
            "1250/1250 [==============================] - 7s 6ms/step - loss: 0.2293 - val_loss: 0.2278\n",
            "Epoch 16/100\n",
            "1250/1250 [==============================] - 7s 6ms/step - loss: 0.2286 - val_loss: 0.2266\n",
            "Epoch 17/100\n",
            "1250/1250 [==============================] - 7s 6ms/step - loss: 0.2275 - val_loss: 0.2259\n",
            "Epoch 18/100\n",
            "1250/1250 [==============================] - 7s 6ms/step - loss: 0.2262 - val_loss: 0.2257\n",
            "Epoch 19/100\n",
            "1250/1250 [==============================] - 7s 6ms/step - loss: 0.2265 - val_loss: 0.2253\n",
            "Epoch 20/100\n",
            "1250/1250 [==============================] - 7s 6ms/step - loss: 0.2264 - val_loss: 0.2241\n",
            "Epoch 21/100\n",
            "1250/1250 [==============================] - 7s 6ms/step - loss: 0.2248 - val_loss: 0.2241\n",
            "Epoch 22/100\n",
            "1250/1250 [==============================] - 7s 6ms/step - loss: 0.2248 - val_loss: 0.2242\n",
            "Epoch 23/100\n",
            "1250/1250 [==============================] - 7s 6ms/step - loss: 0.2242 - val_loss: 0.2246\n",
            "Epoch 24/100\n",
            "1250/1250 [==============================] - 7s 6ms/step - loss: 0.2238 - val_loss: 0.2228\n",
            "Epoch 25/100\n",
            "1250/1250 [==============================] - 7s 6ms/step - loss: 0.2235 - val_loss: 0.2229\n",
            "Epoch 26/100\n",
            "1250/1250 [==============================] - 7s 6ms/step - loss: 0.2236 - val_loss: 0.2239\n",
            "Epoch 27/100\n",
            "1250/1250 [==============================] - 7s 6ms/step - loss: 0.2237 - val_loss: 0.2220\n",
            "Epoch 28/100\n",
            "1250/1250 [==============================] - 7s 6ms/step - loss: 0.2231 - val_loss: 0.2224\n",
            "Epoch 29/100\n",
            "1250/1250 [==============================] - 7s 6ms/step - loss: 0.2234 - val_loss: 0.2230\n"
          ],
          "name": "stdout"
        },
        {
          "output_type": "execute_result",
          "data": {
            "text/plain": [
              "<tensorflow.python.keras.callbacks.History at 0x7f02dd6aa7d0>"
            ]
          },
          "metadata": {
            "tags": []
          },
          "execution_count": 22
        }
      ]
    },
    {
      "cell_type": "code",
      "metadata": {
        "colab": {
          "base_uri": "https://localhost:8080/",
          "height": 248
        },
        "id": "EWzO9eQUCnTS",
        "outputId": "fb651f38-15f1-4320-c269-342a6194f712"
      },
      "source": [
        "decoded_imgs = autoencoder.predict(X_train)\n",
        "\n",
        "n = 10  # how many digits we will display\n",
        "plt.figure(figsize=(20, 4))\n",
        "for i in range(n):\n",
        "    # display original\n",
        "    ax = plt.subplot(2, n, i + 1)\n",
        "    plt.imshow(X_train[i].reshape(28, 28))\n",
        "    plt.gray()\n",
        "    ax.get_xaxis().set_visible(False)\n",
        "    ax.get_yaxis().set_visible(False)\n",
        "\n",
        "    # display reconstruction\n",
        "    ax = plt.subplot(2, n, i + 1 + n)\n",
        "    plt.imshow(decoded_imgs[i].reshape(28, 28))\n",
        "    plt.gray()\n",
        "    ax.get_xaxis().set_visible(False)\n",
        "    ax.get_yaxis().set_visible(False)\n",
        "plt.show()"
      ],
      "execution_count": null,
      "outputs": [
        {
          "output_type": "display_data",
          "data": {
            "image/png": "[encoded data removed]",
            "text/plain": [
              "<Figure size 1440x288 with 20 Axes>"
            ]
          },
          "metadata": {
            "tags": [],
            "needs_background": "light"
          }
        }
      ]
    },
    {
      "cell_type": "markdown",
      "metadata": {
        "id": "DIAClBUwCnTV"
      },
      "source": [
        "#### Visualization of the Representations"
      ]
    },
    {
      "cell_type": "code",
      "metadata": {
        "colab": {
          "base_uri": "https://localhost:8080/",
          "height": 224
        },
        "id": "bu2z5TGyCnTW",
        "outputId": "a6037dac-1845-47c1-817b-999636f5fb7d"
      },
      "source": [
        "encoder = Model(input_img, encoded)\n",
        "encoded_imgs = encoder.predict(X_train)\n",
        "\n",
        "n = 10\n",
        "plt.figure(figsize=(20, 8))\n",
        "for i in range(n):\n",
        "    ax = plt.subplot(1, n, i+1)\n",
        "    plt.imshow(encoded_imgs[i].reshape(4, 4 * 2).T)\n",
        "    plt.gray()\n",
        "    ax.get_xaxis().set_visible(False)\n",
        "    ax.get_yaxis().set_visible(False)\n",
        "plt.show()"
      ],
      "execution_count": null,
      "outputs": [
        {
          "output_type": "display_data",
          "data": {
            "image/png": "[encoded data removed]",
            "text/plain": [
              "<Figure size 1440x576 with 10 Axes>"
            ]
          },
          "metadata": {
            "tags": [],
            "needs_background": "light"
          }
        }
      ]
    },
    {
      "cell_type": "code",
      "metadata": {
        "colab": {
          "base_uri": "https://localhost:8080/"
        },
        "id": "4w84sKRMJ448",
        "outputId": "ab0c3b10-5138-4822-8696-d4414eff8e9a"
      },
      "source": [
        "encoded_imgs[0]"
      ],
      "execution_count": null,
      "outputs": [
        {
          "output_type": "execute_result",
          "data": {
            "text/plain": [
              "array([[[0.6838341 , 0.6326386 ],\n",
              "        [0.6018213 , 1.7911365 ],\n",
              "        [0.52637964, 1.9488703 ],\n",
              "        [0.        , 0.64231217]],\n",
              "\n",
              "       [[0.72576636, 0.7731729 ],\n",
              "        [0.7709471 , 1.8162333 ],\n",
              "        [0.66098833, 1.9677439 ],\n",
              "        [0.22454277, 0.9244423 ]],\n",
              "\n",
              "       [[0.7188121 , 1.072658  ],\n",
              "        [0.54215574, 1.7285188 ],\n",
              "        [0.85528123, 1.6746001 ],\n",
              "        [0.14783809, 0.96515024]],\n",
              "\n",
              "       [[0.7004607 , 1.0589764 ],\n",
              "        [0.5528121 , 1.780835  ],\n",
              "        [0.63119596, 1.4400985 ],\n",
              "        [0.3691747 , 0.9224829 ]]], dtype=float32)"
            ]
          },
          "metadata": {
            "tags": []
          },
          "execution_count": 25
        }
      ]
    },
    {
      "cell_type": "markdown",
      "metadata": {
        "id": "kWk01C13CnTa"
      },
      "source": [
        "## Challenge\n",
        "\n",
        "You will train an autoencoder at some point in the near future. "
      ]
    },
    {
      "cell_type": "markdown",
      "metadata": {
        "id": "MGZVL11gCnTa"
      },
      "source": [
        "# Information Retrieval with Autoencoders (Learn)\n",
        "<a id=\"p3\"></a>"
      ]
    },
    {
      "cell_type": "markdown",
      "metadata": {
        "id": "zqHVvXDqCnTb"
      },
      "source": [
        "## Overview\n",
        "\n",
        "A common usecase for autoencoders is for reverse image search. Let's try to draw an image and see what's most similiar in our dataset. \n",
        "\n",
        "To accomplish this we will need to slice our autoendoer in half to extract our reduced features. :) "
      ]
    },
    {
      "cell_type": "markdown",
      "metadata": {
        "id": "8vvNdHfuCnTc"
      },
      "source": [
        "## Follow Along"
      ]
    },
    {
      "cell_type": "code",
      "metadata": {
        "id": "5-Ip2960CnTd"
      },
      "source": [
        "from tensorflow.keras.layers import Flatten\n",
        "\n",
        "# To run with the Deep Autoencoder (remove the first line below)\n",
        "encoded = Flatten()(encoded)\n",
        "encoder = Model(input_img, encoded)\n",
        "encoded_imgs = encoder.predict(X_train)"
      ],
      "execution_count": null,
      "outputs": []
    },
    {
      "cell_type": "code",
      "metadata": {
        "colab": {
          "base_uri": "https://localhost:8080/"
        },
        "id": "_Z-RB0FHCnTi",
        "outputId": "a5461a7d-e4c6-45ea-f870-f2cf842d203a"
      },
      "source": [
        "encoded_imgs[0].T"
      ],
      "execution_count": null,
      "outputs": [
        {
          "output_type": "execute_result",
          "data": {
            "text/plain": [
              "array([0.6838341 , 0.6326386 , 0.6018213 , 1.7911365 , 0.52637964,\n",
              "       1.9488703 , 0.        , 0.64231217, 0.72576636, 0.7731729 ,\n",
              "       0.7709471 , 1.8162333 , 0.66098833, 1.9677439 , 0.22454277,\n",
              "       0.9244423 , 0.7188121 , 1.072658  , 0.54215574, 1.7285188 ,\n",
              "       0.85528123, 1.6746001 , 0.14783809, 0.96515024, 0.7004607 ,\n",
              "       1.0589764 , 0.5528121 , 1.780835  , 0.63119596, 1.4400985 ,\n",
              "       0.3691747 , 0.9224829 ], dtype=float32)"
            ]
          },
          "metadata": {
            "tags": []
          },
          "execution_count": 44
        }
      ]
    },
    {
      "cell_type": "code",
      "metadata": {
        "colab": {
          "base_uri": "https://localhost:8080/"
        },
        "id": "hYTiGQpfCnTm",
        "outputId": "cf613fa5-f3ea-4fc2-937c-50911a90e10f"
      },
      "source": [
        "from sklearn.neighbors import NearestNeighbors\n",
        "\n",
        "nn = NearestNeighbors(n_neighbors=10, algorithm='ball_tree')\n",
        "nn.fit(encoded_imgs)"
      ],
      "execution_count": null,
      "outputs": [
        {
          "output_type": "execute_result",
          "data": {
            "text/plain": [
              "NearestNeighbors(algorithm='ball_tree', leaf_size=30, metric='minkowski',\n",
              "                 metric_params=None, n_jobs=None, n_neighbors=10, p=2,\n",
              "                 radius=1.0)"
            ]
          },
          "metadata": {
            "tags": []
          },
          "execution_count": 45
        }
      ]
    },
    {
      "cell_type": "code",
      "metadata": {
        "colab": {
          "base_uri": "https://localhost:8080/"
        },
        "id": "g9k1R-_dLaV_",
        "outputId": "f4a749af-4997-4a4c-cfa7-ade84f292b2c"
      },
      "source": [
        "encoded_imgs[0].shape"
      ],
      "execution_count": null,
      "outputs": [
        {
          "output_type": "execute_result",
          "data": {
            "text/plain": [
              "(32,)"
            ]
          },
          "metadata": {
            "tags": []
          },
          "execution_count": 46
        }
      ]
    },
    {
      "cell_type": "code",
      "metadata": {
        "colab": {
          "base_uri": "https://localhost:8080/"
        },
        "id": "_sOX5WjrLc7z",
        "outputId": "39698621-83c8-4766-92de-3678cba0c6cf"
      },
      "source": [
        "encoded_imgs[0].reshape(1,-1).shape"
      ],
      "execution_count": null,
      "outputs": [
        {
          "output_type": "execute_result",
          "data": {
            "text/plain": [
              "(1, 32)"
            ]
          },
          "metadata": {
            "tags": []
          },
          "execution_count": 47
        }
      ]
    },
    {
      "cell_type": "code",
      "metadata": {
        "id": "qii2tvxyCnTq"
      },
      "source": [
        "close_image_idx = nn.kneighbors(encoded_imgs[0].reshape(1,-1))\n",
        "close_image_idx"
      ],
      "execution_count": null,
      "outputs": []
    },
    {
      "cell_type": "code",
      "metadata": {
        "colab": {
          "base_uri": "https://localhost:8080/",
          "height": 265
        },
        "id": "QTbWhHJNKzSn",
        "outputId": "223c4539-c3e2-4ff6-9dfe-6afb697537a6"
      },
      "source": [
        "plt.imshow(X_train[0].reshape(28,28));"
      ],
      "execution_count": null,
      "outputs": [
        {
          "output_type": "display_data",
          "data": {
            "image/png": "[encoded data removed]",
            "text/plain": [
              "<Figure size 432x288 with 1 Axes>"
            ]
          },
          "metadata": {
            "tags": [],
            "needs_background": "light"
          }
        }
      ]
    },
    {
      "cell_type": "code",
      "metadata": {
        "colab": {
          "base_uri": "https://localhost:8080/",
          "height": 265
        },
        "id": "Pyh4YWxFK-i4",
        "outputId": "bda14559-2c80-4fd8-858d-c4ba99604097"
      },
      "source": [
        "plt.imshow(X_train[close_image_idx[1][0][1]].reshape(28,28));"
      ],
      "execution_count": null,
      "outputs": [
        {
          "output_type": "display_data",
          "data": {
            "image/png": "[encoded data removed]",
            "text/plain": [
              "<Figure size 432x288 with 1 Axes>"
            ]
          },
          "metadata": {
            "tags": [],
            "needs_background": "light"
          }
        }
      ]
    },
    {
      "cell_type": "markdown",
      "metadata": {
        "id": "upH6twqACnTr"
      },
      "source": [
        "## Challenge\n",
        "\n",
        "You should already be familiar with KNN and similarity queries, so the key component of this section is know what to 'slice' from your autoencoder (the encoder) to extract features from your data. "
      ]
    },
    {
      "cell_type": "markdown",
      "metadata": {
        "id": "ICwm7L34CnTs"
      },
      "source": [
        "# Review\n",
        "\n",
        "* <a href=\"#p1\">Part 1</a>: Describe the componenets of an autoencoder\n",
        "    - Enocder\n",
        "    - Decoder\n",
        "* <a href=\"#p2\">Part 2</a>: Train an autoencoder\n",
        "    - Can do in Keras Easily\n",
        "    - Can use a variety of architectures\n",
        "    - Architectures must follow hourglass shape\n",
        "* <a href=\"#p3\">Part 3</a>: Apply an autoenocder to a basic information retrieval problem\n",
        "    - Extract just the encoder to use for various tasks\n",
        "    - AE ares good for dimensionality reduction, reverse image search, and may more things. \n"
      ]
    },
    {
      "cell_type": "markdown",
      "metadata": {
        "id": "Pdee5f87CnTu"
      },
      "source": [
        "# Sources\n",
        "\n",
        "__References__\n",
        "- [Building Autoencoders in Keras](https://blog.keras.io/building-autoencoders-in-keras.html)\n",
        "- [Deep Learning Cookbook](http://shop.oreilly.com/product/0636920097471.do)\n",
        "\n",
        "__Additional Material__"
      ]
    }
  ]
}